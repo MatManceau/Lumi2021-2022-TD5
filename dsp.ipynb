{
 "cells": [
  {
   "cell_type": "code",
   "execution_count": 1,
   "metadata": {},
   "outputs": [],
   "source": [
    "%matplotlib inline\n",
    "import matplotlib.pyplot as plt\n",
    "import numpy as np"
   ]
  },
  {
   "cell_type": "markdown",
   "metadata": {},
   "source": [
    "## Densité spectrale du bruit d'une machine à laver"
   ]
  },
  {
   "cell_type": "code",
   "execution_count": 2,
   "metadata": {},
   "outputs": [],
   "source": [
    "from scipy.io.wavfile import read\n",
    "samplerate, amplitude = read('data/machine_a_laver.wav')"
   ]
  },
  {
   "cell_type": "code",
   "execution_count": null,
   "metadata": {},
   "outputs": [],
   "source": [
    "# question 2\n",
    "print(samplerate)\n",
    "delta_t = 1/samplerate\n",
    "N = len(amplitude)\n",
    "print(N)\n",
    "T = A compléter\n",
    "print(T)"
   ]
  },
  {
   "cell_type": "code",
   "execution_count": null,
   "metadata": {},
   "outputs": [],
   "source": [
    "# question 2 le tracé de la courbe temporelle\n",
    "t = np.arange(N)*A compléter #Le temps\n",
    "\n",
    "plt.plot(A compléter)\n",
    "plt.xlabel('Temps [s]')\n",
    "plt.ylabel('Amplitude')"
   ]
  },
  {
   "cell_type": "code",
   "execution_count": 5,
   "metadata": {},
   "outputs": [],
   "source": [
    "# Calcul de la DSP \n",
    "from scipy.signal import periodogram\n",
    "freq, psd = periodogram(amplitude, samplerate)"
   ]
  },
  {
   "cell_type": "code",
   "execution_count": null,
   "metadata": {},
   "outputs": [],
   "source": [
    "# Question 3\n",
    "mask = (freq>=10) & (freq<50) # Fréquence de 10 à 50 Hz\n",
    "plt.loglog(freq[mask], psd[mask])\n",
    "plt.grid(which='both')\n",
    "\n",
    "mask_pic = np.abs(freq-20)<1.5 # Fréquence autour de 20Hz\n",
    "\n",
    "plt.loglog(freq[mask& ~mask_pic], psd[mask& ~mask_pic])\n",
    "plt.loglog(freq[mask_pic], psd[mask_pic])\n"
   ]
  },
  {
   "cell_type": "code",
   "execution_count": null,
   "metadata": {},
   "outputs": [],
   "source": [
    "# Question 5\n",
    "\n",
    "Px = A compléter #Puissance du signal\n",
    "print(Px)\n",
    "\n",
    "Delta_f = A compléter # incrément de fréquence de la DSP\n",
    "print(np.sum(psd)*A compléter)#Puissance du signal via la DSP"
   ]
  },
  {
   "cell_type": "code",
   "execution_count": null,
   "metadata": {},
   "outputs": [],
   "source": [
    "# Question 6 \n",
    "\n",
    "print('Signal', np.sum(psd[A compléter]*A compléter))\n",
    "print('Bruit', np.sum(psd[A compléter])*A compléter)"
   ]
  },
  {
   "cell_type": "markdown",
   "metadata": {},
   "source": [
    "## Filtre en Python"
   ]
  },
  {
   "cell_type": "code",
   "execution_count": null,
   "metadata": {},
   "outputs": [],
   "source": [
    "# Création d'un signal porte \n",
    "\n",
    "samplerate = 44100\n",
    "delta_t = 1/samplerate\n",
    "signal = np.zeros(samplerate*3)\n",
    "signal[samplerate:samplerate*2] = 1\n",
    "t = np.arange(len(signal))*delta_t\n",
    "plt.plot(t, signal)"
   ]
  },
  {
   "cell_type": "code",
   "execution_count": null,
   "metadata": {},
   "outputs": [],
   "source": [
    "# Question 1\n",
    "\n",
    "import numpy as np\n",
    "signal_tilde = np.fft.rfft(signal)\n",
    "signal_2 = np.fft.irfft(signal_tilde)\n",
    "plt.plot(t, signal_2)"
   ]
  },
  {
   "cell_type": "code",
   "execution_count": null,
   "metadata": {},
   "outputs": [],
   "source": [
    "# Question 2\n",
    "\n",
    "np.fft.rfftfreq(len(signal), d=delta_t)\n",
    "# Commenter le résultat, freq max, pas de fréquence."
   ]
  },
  {
   "cell_type": "code",
   "execution_count": null,
   "metadata": {},
   "outputs": [],
   "source": [
    "def pass_bas(signal, f_c, samplerate=44100):\n",
    "    signal_tilde = np.fft.rfft(signal)\n",
    "    freqs = np.fft.rfftfreq(len(signal), 1/samplerate)\n",
    "    H = 1/(1+1J*(freqs/f_c))\n",
    "    signal_2 = np.fft.irfft(H*signal_tilde)\n",
    "    return signal_2"
   ]
  },
  {
   "cell_type": "code",
   "execution_count": null,
   "metadata": {},
   "outputs": [],
   "source": [
    "def pass_haut(signal, f_c, samplerate=44100):\n",
    "    signal_tilde = np.fft.rfft(signal)\n",
    "    freqs = np.fft.rfftfreq(len(signal), 1/samplerate)\n",
    "    H = 1J*(freqs/f_c)/(1+1J*(freqs/f_c))\n",
    "    signal_2 = np.fft.irfft(H*signal_tilde)\n",
    "    return signal_2"
   ]
  },
  {
   "cell_type": "code",
   "execution_count": null,
   "metadata": {},
   "outputs": [],
   "source": [
    "# Question 3 : Filtre passe bas sur signal porte\n",
    "\n",
    "signal_filtre = pass_bas(signal, f_c= A compléter)\n",
    "plt.plot(t, signal_filtre)\n",
    "# Commenter"
   ]
  },
  {
   "cell_type": "code",
   "execution_count": null,
   "metadata": {},
   "outputs": [],
   "source": [
    "# Question 4 : Filtre passe haut sur signal porte\n",
    "\n",
    "signal_filtre = pass_haut(signal, f_c= A compléter)\n",
    "plt.plot(t, signal_filtre)\n",
    "# Commenter"
   ]
  },
  {
   "cell_type": "code",
   "execution_count": null,
   "metadata": {},
   "outputs": [],
   "source": [
    "# Question 5 : Filtre passe bas sur machine à laver\n",
    "\n",
    "from scipy.io.wavfile import read\n",
    "samplerate, amplitude = read('data/machine_a_laver.wav')\n",
    "\n",
    "amplitude_filtree = pass_bas(amplitude, A compléter, samplerate=samplerate)"
   ]
  },
  {
   "cell_type": "code",
   "execution_count": null,
   "metadata": {},
   "outputs": [],
   "source": [
    "# Question 5 suite: Tracé dernière seconde du signal filtré\n",
    "\n",
    "t = np.arange(N)*delta_t\n",
    "\n",
    "plt.plot(t[A compléter], amplitude[A compléter])\n",
    "plt.plot(t[A compléter], amplitude_filtree[A compléter])\n",
    "plt.xlabel('Temps [s]')\n",
    "plt.ylabel('Amplitude')"
   ]
  },
  {
   "cell_type": "markdown",
   "metadata": {},
   "source": [
    "## Onde gravitationnelle"
   ]
  },
  {
   "cell_type": "code",
   "execution_count": 21,
   "metadata": {},
   "outputs": [],
   "source": [
    "# Question 1\n",
    "\n",
    "from readligo import loaddata\n",
    "filename_H1 = 'data/H-H1_LOSC_4_V1-1126259446-32.hdf5'\n",
    "strain_H1, time_H1, chan_dict_H1 = loaddata(filename_H1, 'H1')\n",
    "\n",
    "filename_L1 = 'data/L-L1_LOSC_4_V1-1126259446-32.hdf5'\n",
    "strain_L1, time_L1, chan_dict_L1 = loaddata(filename_L1, 'L1')\n",
    "\n",
    "# Question 2\n",
    "time = time_H1 #temps\n",
    "print(len(time))\n",
    "dt = A compléter  #Pas de temps\n",
    "print(dt)\n",
    "samplerate = int(1/dt) # échantilonnage"
   ]
  },
  {
   "cell_type": "code",
   "execution_count": null,
   "metadata": {},
   "outputs": [],
   "source": [
    "# Question 3 Tracé le signal sur 10 secondes autour de l'évenement\n",
    "\n",
    "tevent = 1126259462         # Mon Sep 14 09:50:45 GMT 2015 \n",
    "deltat = A compléter        # seconds around the event\n",
    "\n",
    "# index into the strain time series for this time interval:\n",
    "mask = ((time_H1 >= tevent-deltat) & (time_H1 < tevent+deltat))\n",
    "\n",
    "# index into the strain time series for this time interval:\n",
    "mask = ((time_H1 >= tevent-deltat) & (time_H1 < tevent+deltat))\n",
    "\n",
    "plt.plot(time_H1[mask] - tevent, strain_H1[mask])"
   ]
  },
  {
   "cell_type": "code",
   "execution_count": null,
   "metadata": {},
   "outputs": [],
   "source": [
    "#Question 4 DSP sur signal entier avec fonction périodogramme\n",
    "\n",
    "from scipy.signal import periodogram\n",
    "f_p, psd_p = periodogram(strain_H1, samplerate)\n",
    "\n",
    "plt.loglog(f_p[A compléter:], psd_p[A compléter:])#10 Hz à 2 kHz"
   ]
  },
  {
   "cell_type": "code",
   "execution_count": null,
   "metadata": {},
   "outputs": [],
   "source": [
    "# Question 4 DSP méthode de Welch\n",
    "\n",
    "from scipy.signal import welch\n",
    "f, psd = welch(strain_H1, samplerate, nperseg=samplerate)\n",
    "\n",
    "plt.loglog(f[A compléter:], psd[A compléter:])#10 Hz à 2 kHz\n",
    "# Commenter les différences avec la DSP calculer avec le périodogramme"
   ]
  },
  {
   "cell_type": "code",
   "execution_count": null,
   "metadata": {},
   "outputs": [],
   "source": [
    "# Question 5 \n",
    "\n",
    "print(psd[f==100]) #Valeur de PSD à 100 Hz\n",
    "\n",
    "# Filtrage entre 30 et 300 Hz en utilisant un passe haut et un passe bas\n",
    "strain_H1_filt = pass_haut(pass_bas(strain_H1, f_c=A compléter, samplerate=1/dt), f_c=A compléter, samplerate=1/dt)\n",
    "\n",
    "# plot +- 5 seconds around the event:\n",
    "tevent = 1126259462      # Mon Sep 14 09:50:45 GMT 2015 \n",
    "deltat = 5               # seconds around the event\n",
    "\n",
    "# index into the strain time series for this time interval:\n",
    "mask = ((time_H1 >= tevent-deltat) & (time_H1 < tevent+deltat))\n",
    "plt.plot(time_H1[mask] - tevent, strain_H1_filt[mask])\n",
    "# Comparer la courbe obtenue à celle obtenue sans filtrage\n",
    "\n",
    "# Variance du signal filtré et non filtré\n",
    "print(np.var(strain_H1_filt))\n",
    "print(np.var(strain_H1))\n",
    "\n"
   ]
  },
  {
   "cell_type": "code",
   "execution_count": null,
   "metadata": {},
   "outputs": [],
   "source": [
    "# Question 6: Filtrage des signaux parasites, on enlève les pics parasites de la DSP correspondant aux oscillations\n",
    "# vu sur le signal temporel\n",
    "\n",
    "from scipy.interpolate import interp1d    \n",
    "\n",
    "def whiten(strain, dt):\n",
    "    freqs_welch, psd_welch = welch(strain, fs=1/dt, nperseg=int(1/dt))\n",
    "    interp_psd = interp1d(freqs_welch, psd_welch)\n",
    "\n",
    "    strain_tilde = np.fft.rfft(strain)\n",
    "    N = len(strain)\n",
    "    freqs = np.fft.rfftfreq(N, dt)\n",
    "\n",
    "    gain = 1 / np.sqrt(interp_psd(freqs))\n",
    "    gain = gain/gain.max()\n",
    "    white_strain_tilde = strain_tilde * gain\n",
    "    white_strain = np.fft.irfft(white_strain_tilde)\n",
    "    return white_strain\n",
    "\n",
    "strain_H1_whiten = whiten(strain_H1, dt)\n",
    "strain_L1_whiten = whiten(strain_L1, dt)\n",
    "\n",
    "# plot +- 5 seconds around the event:\n",
    "tevent = 1126259462         # Mon Sep 14 09:50:45 GMT 2015 \n",
    "deltat = A compléter        # seconds around the event\n",
    "\n",
    "# index into the strain time series for this time interval:\n",
    "mask = ((time_H1 >= tevent-deltat) & (time_H1 < tevent+deltat))\n",
    "\n",
    "plt.plot(strain_H1_whiten[mask])\n",
    "\n",
    "# Variance du signal sans les oscillations parasites\n",
    "print(np.var(strain_H1_whiten))\n",
    "\n"
   ]
  },
  {
   "cell_type": "code",
   "execution_count": null,
   "metadata": {},
   "outputs": [],
   "source": [
    "# Question 7 : Sans oscillations parasites + Filtres! sur les deux détecteurs\n",
    "\n",
    "strain_H1_whiten_filt = pass_haut(pass_bas(A compléter))\n",
    "strain_L1_whiten_filt = pass_haut(pass_bas(A compléter))\n",
    "\n",
    "# plot +- 0.5 seconds around the event:\n",
    "tevent = 1126259462         # Mon Sep 14 09:50:45 GMT 2015 \n",
    "deltat = 0.5                # seconds around the event\n",
    "\n",
    "# index into the strain time series for this time interval:\n",
    "mask = ((time_H1 >= tevent-deltat) & (time_H1 < tevent+deltat))\n",
    "\n",
    "# Tracé des deux signaux filtrés\n",
    "plt.subplot(2, 1, 1)\n",
    "\n",
    "plt.plot(time_H1[mask] - tevent, strain_H1_whiten_filt[mask])\n",
    "plt.xlim(0.3, 0.5)\n",
    "plt.subplot(2, 1, 2)\n",
    "\n",
    "delay = 0 # Délais entre les deux signaux, A compléter, mettre à 0 au départ \n",
    "plt.plot(time_L1[mask] - tevent + delay, -strain_L1_whiten_filt[mask])\n",
    "plt.xlim(0.3, 0.5)\n",
    "\n"
   ]
  },
  {
   "cell_type": "code",
   "execution_count": null,
   "metadata": {},
   "outputs": [],
   "source": [
    "## Question 8\n",
    "# Correlation avec un délai de 7ms\n",
    "\n",
    "start = int(len(time)/2 - 2.5*samplerate)\n",
    "stop = int(len(time)/2 + 2.5*samplerate)\n",
    "delai = int(7E-3*samplerate)\n",
    "correlation = -strain_L1_whiten_filt[start:stop] * strain_H1_whiten_filt[start+delai:stop+delai]\n",
    "correlation_filt = pass_bas(correlation, f_c=10, samplerate=samplerate)\n",
    "plt.plot(time_L1[start:stop]-tevent, correlation_filt)\n",
    "plt.xlim(0, 1)"
   ]
  }
 ],
 "metadata": {
  "kernelspec": {
   "display_name": "Python 3",
   "language": "python",
   "name": "python3"
  },
  "language_info": {
   "codemirror_mode": {
    "name": "ipython",
    "version": 3
   },
   "file_extension": ".py",
   "mimetype": "text/x-python",
   "name": "python",
   "nbconvert_exporter": "python",
   "pygments_lexer": "ipython3",
   "version": "3.8.5"
  }
 },
 "nbformat": 4,
 "nbformat_minor": 1
}
